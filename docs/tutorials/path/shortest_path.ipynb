{
 "cells": [
  {
   "cell_type": "markdown",
   "metadata": {},
   "source": [
    "# Shortest paths"
   ]
  },
  {
   "cell_type": "markdown",
   "metadata": {},
   "source": [
    "This notebook illustrates the search for [shortest paths](https://en.wikipedia.org/wiki/Shortest_path_problem) in graphs."
   ]
  },
  {
   "cell_type": "code",
   "execution_count": 1,
   "metadata": {},
   "outputs": [],
   "source": [
    "from IPython.display import SVG"
   ]
  },
  {
   "cell_type": "code",
   "execution_count": 2,
   "metadata": {
    "ExecuteTime": {
     "end_time": "2019-07-15T12:29:50.554431Z",
     "start_time": "2019-07-15T12:29:50.414075Z"
    }
   },
   "outputs": [],
   "source": [
    "import numpy as np"
   ]
  },
  {
   "cell_type": "code",
   "execution_count": 3,
   "metadata": {},
   "outputs": [],
   "source": [
    "from sknetwork.data import miserables, painters, movie_actor\n",
    "from sknetwork.path import get_shortest_path\n",
    "from sknetwork.visualization import svg_graph, svg_bigraph\n",
    "from sknetwork.utils import bipartite2undirected"
   ]
  },
  {
   "cell_type": "markdown",
   "metadata": {},
   "source": [
    "## Graphs"
   ]
  },
  {
   "cell_type": "code",
   "execution_count": 4,
   "metadata": {
    "ExecuteTime": {
     "end_time": "2019-07-15T12:29:51.261957Z",
     "start_time": "2019-07-15T12:29:51.249107Z"
    }
   },
   "outputs": [],
   "source": [
    "graph = miserables(metadata=True)\n",
    "adjacency = graph.adjacency\n",
    "names = graph.names\n",
    "position = graph.position"
   ]
  },
  {
   "cell_type": "code",
   "execution_count": 6,
   "metadata": {},
   "outputs": [],
   "source": [
    "# shortest path\n",
    "napoleon = 1\n",
    "jondrette = 46\n",
    "path = get_shortest_path(adjacency, sources=napoleon, targets=jondrette)"
   ]
  },
  {
   "cell_type": "code",
   "execution_count": 7,
   "metadata": {},
   "outputs": [],
   "source": [
    "# visualization\n",
    "edge_labels = [(path[k], path[k + 1], 0) for k in range(len(path) - 1)]"
   ]
  },
  {
   "cell_type": "code",
   "execution_count": 10,
   "metadata": {
    "ExecuteTime": {
     "end_time": "2019-07-15T12:29:55.341520Z",
     "start_time": "2019-07-15T12:29:55.026465Z"
    },
    "scrolled": true
   },
   "outputs": [],
   "source": [
    "image = svg_graph(adjacency, position, names, edge_labels=edge_labels, edge_width=3, display_edge_weight=False, scale = 1.5)\n",
    "SVG(image)"
   ]
  },
  {
   "cell_type": "markdown",
   "metadata": {},
   "source": [
    "## Directed graphs"
   ]
  },
  {
   "cell_type": "code",
   "execution_count": 12,
   "metadata": {
    "ExecuteTime": {
     "end_time": "2019-07-15T12:29:58.542147Z",
     "start_time": "2019-07-15T12:29:58.529699Z"
    }
   },
   "outputs": [],
   "source": [
    "graph = painters(metadata=True)\n",
    "adjacency = graph.adjacency\n",
    "names = graph.names\n",
    "position = graph.position"
   ]
  },
  {
   "cell_type": "code",
   "execution_count": 13,
   "metadata": {},
   "outputs": [],
   "source": [
    "# shortest path\n",
    "klimt = 6\n",
    "vinci = 9\n",
    "path = get_shortest_path(adjacency, sources=klimt, targets=vinci)"
   ]
  },
  {
   "cell_type": "code",
   "execution_count": 15,
   "metadata": {},
   "outputs": [],
   "source": [
    "edge_labels = [(path[k], path[k + 1], 0) for k in range(len(path) - 1)]"
   ]
  },
  {
   "cell_type": "code",
   "execution_count": 16,
   "metadata": {
    "scrolled": true
   },
   "outputs": [],
   "source": [
    "image = svg_graph(adjacency, position, names, edge_labels=edge_labels, edge_width=2)\n",
    "SVG(image)"
   ]
  },
  {
   "cell_type": "markdown",
   "metadata": {},
   "source": [
    "## Bipartite graphs"
   ]
  },
  {
   "cell_type": "code",
   "execution_count": 44,
   "metadata": {},
   "outputs": [],
   "source": [
    "graph = movie_actor(metadata=True)\n",
    "biadjacency = graph.biadjacency\n",
    "names_row = graph.names_row\n",
    "names_col = graph.names_col"
   ]
  },
  {
   "cell_type": "code",
   "execution_count": 45,
   "metadata": {},
   "outputs": [],
   "source": [
    "adjacency = bipartite2undirected(biadjacency)\n",
    "n_row = biadjacency.shape[0]"
   ]
  },
  {
   "cell_type": "code",
   "execution_count": 71,
   "metadata": {},
   "outputs": [],
   "source": [
    "# shortest path\n",
    "seydoux = 9\n",
    "lewitt = 2\n",
    "path = get_shortest_path(adjacency, sources=seydoux + n_row, targets=lewitt + n_row)"
   ]
  },
  {
   "cell_type": "code",
   "execution_count": 73,
   "metadata": {},
   "outputs": [],
   "source": [
    "# visualization\n",
    "edge_labels = []\n",
    "labels_row = {}\n",
    "labels_col = {}\n",
    "for k in range(len(path) - 1):\n",
    "    i = path[k]\n",
    "    j = path[k + 1]\n",
    "    # row first\n",
    "    if i > j:\n",
    "        i, j = j, i\n",
    "    j -= n_row\n",
    "    labels_row[i] = 0\n",
    "    labels_col[j] = 0\n",
    "    edge_labels.append((i, j, 0))"
   ]
  },
  {
   "cell_type": "code",
   "execution_count": 74,
   "metadata": {},
   "outputs": [],
   "source": [
    "image = svg_bigraph(biadjacency, names_row, names_col, labels_row, labels_col, \n",
    "                    edge_labels=edge_labels, edge_color='gray', edge_width=3)\n",
    "SVG(image)"
   ]
  }
 ],
 "metadata": {
  "kernelspec": {
   "display_name": "Python 3 (ipykernel)",
   "language": "python",
   "name": "python3"
  },
  "language_info": {
   "codemirror_mode": {
    "name": "ipython",
    "version": 3
   },
   "file_extension": ".py",
   "mimetype": "text/x-python",
   "name": "python",
   "nbconvert_exporter": "python",
   "pygments_lexer": "ipython3",
   "version": "3.9.13"
  },
  "toc": {
   "base_numbering": 1,
   "nav_menu": {},
   "number_sections": true,
   "sideBar": true,
   "skip_h1_title": false,
   "title_cell": "Table of Contents",
   "title_sidebar": "Contents",
   "toc_cell": false,
   "toc_position": {},
   "toc_section_display": true,
   "toc_window_display": false
  }
 },
 "nbformat": 4,
 "nbformat_minor": 2
}

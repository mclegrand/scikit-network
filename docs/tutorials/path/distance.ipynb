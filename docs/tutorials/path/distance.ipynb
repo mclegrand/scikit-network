{
 "cells": [
  {
   "cell_type": "markdown",
   "metadata": {},
   "source": [
    "# Distance"
   ]
  },
  {
   "cell_type": "markdown",
   "metadata": {},
   "source": [
    "This notebook illustrates the computation of distances between nodes in graphs (in number of hops)."
   ]
  },
  {
   "cell_type": "code",
   "execution_count": 2,
   "metadata": {},
   "outputs": [],
   "source": [
    "from IPython.display import SVG"
   ]
  },
  {
   "cell_type": "code",
   "execution_count": 3,
   "metadata": {
    "ExecuteTime": {
     "end_time": "2019-07-15T12:29:50.554431Z",
     "start_time": "2019-07-15T12:29:50.414075Z"
    }
   },
   "outputs": [],
   "source": [
    "import numpy as np"
   ]
  },
  {
   "cell_type": "code",
   "execution_count": 4,
   "metadata": {},
   "outputs": [],
   "source": [
    "from sknetwork.data import miserables, painters, movie_actor\n",
    "from sknetwork.path import get_distances\n",
    "from sknetwork.visualization import svg_graph, svg_bigraph\n",
    "from sknetwork.utils import bipartite2undirected"
   ]
  },
  {
   "cell_type": "markdown",
   "metadata": {},
   "source": [
    "## Graphs"
   ]
  },
  {
   "cell_type": "code",
   "execution_count": 16,
   "metadata": {
    "ExecuteTime": {
     "end_time": "2019-07-15T12:29:51.261957Z",
     "start_time": "2019-07-15T12:29:51.249107Z"
    }
   },
   "outputs": [],
   "source": [
    "graph = miserables(metadata=True)\n",
    "adjacency = graph.adjacency\n",
    "names = graph.names\n",
    "position = graph.position"
   ]
  },
  {
   "cell_type": "code",
   "execution_count": 17,
   "metadata": {},
   "outputs": [],
   "source": [
    "napoleon = 1\n",
    "distances = get_distances(adjacency, sources=napoleon)"
   ]
  },
  {
   "cell_type": "code",
   "execution_count": 22,
   "metadata": {
    "ExecuteTime": {
     "end_time": "2019-07-15T12:29:55.341520Z",
     "start_time": "2019-07-15T12:29:55.026465Z"
    },
    "scrolled": true
   },
   "outputs": [],
   "source": [
    "image = svg_graph(adjacency, position, names, scores = -distances, seeds=[napoleon], scale = 1.5)\n",
    "SVG(image)"
   ]
  },
  {
   "cell_type": "markdown",
   "metadata": {},
   "source": [
    "## Directed graphs"
   ]
  },
  {
   "cell_type": "code",
   "execution_count": 14,
   "metadata": {
    "ExecuteTime": {
     "end_time": "2019-07-15T12:29:58.542147Z",
     "start_time": "2019-07-15T12:29:58.529699Z"
    }
   },
   "outputs": [],
   "source": [
    "graph = painters(metadata=True)\n",
    "adjacency = graph.adjacency\n",
    "names = graph.names\n",
    "position = graph.position"
   ]
  },
  {
   "cell_type": "code",
   "execution_count": 15,
   "metadata": {},
   "outputs": [],
   "source": [
    "cezanne = 11\n",
    "distances = get_distances(adjacency, sources=cezanne)"
   ]
  },
  {
   "cell_type": "code",
   "execution_count": 17,
   "metadata": {},
   "outputs": [],
   "source": [
    "dist_neg= {i: -d for i, d in enumerate(distances) if d < np.inf}"
   ]
  },
  {
   "cell_type": "code",
   "execution_count": 18,
   "metadata": {
    "scrolled": true
   },
   "outputs": [],
   "source": [
    "image = svg_graph(adjacency, position, names, scores=dist_neg , seeds=[cezanne])\n",
    "SVG(image)"
   ]
  },
  {
   "cell_type": "markdown",
   "metadata": {},
   "source": [
    "## Bipartite graphs"
   ]
  },
  {
   "cell_type": "code",
   "execution_count": 31,
   "metadata": {},
   "outputs": [],
   "source": [
    "graph = movie_actor(metadata=True)\n",
    "biadjacency = graph.biadjacency\n",
    "names_row = graph.names_row\n",
    "names_col = graph.names_col"
   ]
  },
  {
   "cell_type": "code",
   "execution_count": 32,
   "metadata": {},
   "outputs": [],
   "source": [
    "adjacency = bipartite2undirected(biadjacency)\n",
    "n_row, _ = biadjacency.shape"
   ]
  },
  {
   "cell_type": "code",
   "execution_count": 34,
   "metadata": {},
   "outputs": [],
   "source": [
    "seydoux = 9\n",
    "distances = get_distances(adjacency, sources=seydoux + n_row)"
   ]
  },
  {
   "cell_type": "code",
   "execution_count": 36,
   "metadata": {},
   "outputs": [],
   "source": [
    "image = svg_bigraph(biadjacency, names_row, names_col, scores_col=-distances[n_row:], seeds_col=seydoux)\n",
    "SVG(image)"
   ]
  }
 ],
 "metadata": {
  "kernelspec": {
   "display_name": "Python 3 (ipykernel)",
   "language": "python",
   "name": "python3"
  },
  "language_info": {
   "codemirror_mode": {
    "name": "ipython",
    "version": 3
   },
   "file_extension": ".py",
   "mimetype": "text/x-python",
   "name": "python",
   "nbconvert_exporter": "python",
   "pygments_lexer": "ipython3",
   "version": "3.9.13"
  },
  "toc": {
   "base_numbering": 1,
   "nav_menu": {},
   "number_sections": true,
   "sideBar": true,
   "skip_h1_title": false,
   "title_cell": "Table of Contents",
   "title_sidebar": "Contents",
   "toc_cell": false,
   "toc_position": {},
   "toc_section_display": true,
   "toc_window_display": false
  }
 },
 "nbformat": 4,
 "nbformat_minor": 2
}
